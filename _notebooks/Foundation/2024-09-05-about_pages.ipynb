{
 "cells": [
  {
   "cell_type": "markdown",
   "metadata": {
    "vscode": {
     "languageId": "raw"
    }
   },
   "source": [
    "---\n",
    "layout: post\n",
    "title: About Pages\n",
    "description: About My Pages or smth\n",
    "permalink: /about_pages\n",
    "comments: true\n",
    "---"
   ]
  },
  {
   "cell_type": "markdown",
   "metadata": {},
   "source": [
    "## About me:\n",
    "- Current student at Del Norte High School\n",
    "- Current classes\n",
    "    - APUSH\n",
    "    - APEL\n",
    "    - AP Stats\n",
    "    - AP CSA\n",
    "    - AP Physics E&M\n",
    "- Aspiring CS major (im not getting into college)\n",
    "\n",
    "\n",
    "## I love coding:\n",
    "- leetcode yum\n",
    "- USACO Gold\n",
    "\n",
    "## Project ideas:\n",
    "- Monkey text replacer (replace monkey words with monkey emoji)\n",
    "- Monkey clicker game (cookie clicker ripoff)\n",
    "\n",
    "\n",
    "<h1>Currently Solved Leetcode Questions:</h1>\n",
    "<div id=\"responseText\">Waiting for response...</div>\n",
    "\n",
    "<script>\n",
    "        // Function to make a GET request\n",
    "    function updateText() {\n",
    "        const url = 'https://alfa-leetcode-api.onrender.com/HanlunLi/solved';\n",
    "        fetch(url)\n",
    "            .then(response => response.json())\n",
    "            .then(data => {\n",
    "                document.getElementById('responseText').innerText = JSON.stringify(data);\n",
    "            })\n",
    "            .catch(error => {\n",
    "                document.getElementById('responseText').innerText = 'Error: ' + error;\n",
    "            });\n",
    "    }\n",
    "\n",
    "    // Call the function to update the text when the page loads\n",
    "    window.onload = updateText;\n",
    "</script>"
   ]
  }
 ],
 "metadata": {
  "language_info": {
   "name": "python"
  }
 },
 "nbformat": 4,
 "nbformat_minor": 2
}
