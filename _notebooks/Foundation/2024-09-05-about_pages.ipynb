{
 "cells": [
  {
   "cell_type": "markdown",
   "metadata": {
    "vscode": {
     "languageId": "raw"
    }
   },
   "source": [
    "---\n",
    "layout: post\n",
    "title: About Pages\n",
    "description: About My Pages or smth\n",
    "permalink: /about_pages\n",
    "comments: true\n",
    "---"
   ]
  },
  {
   "cell_type": "markdown",
   "metadata": {},
   "source": [
    "## This is my github pages!\n",
    "- i love github\n",
    "- i love github\n",
    "- i love github\n",
    "- i love github\n",
    "- i love github\n",
    "- i love github\n",
    "- i love github\n",
    "- i love github\n",
    "- i love github\n",
    "- i love github\n",
    "- i love github\n",
    "- i love github\n",
    "- i love github\n",
    "- i love github\n",
    "- i love github\n",
    "- i love github\n",
    "- i love github\n",
    "- i love github\n",
    "- i love github\n",
    "- i love github\n",
    "- i love github\n",
    "- i love github\n",
    "- i love github\n",
    "- i love github\n",
    "- i love github\n",
    "- i hate github\n",
    "- i love github\n",
    "- i love github\n",
    "- i love github\n",
    "- i love github\n",
    "- i love github\n",
    "- i love github\n",
    "- i love github\n",
    "- i love github\n",
    "- i love github\n",
    "- i love github\n",
    "- i love github\n",
    "- i love github"
   ]
  }
 ],
 "metadata": {
  "language_info": {
   "name": "python"
  }
 },
 "nbformat": 4,
 "nbformat_minor": 2
}
