{
 "cells": [
  {
   "cell_type": "raw",
   "metadata": {},
   "source": [
    "---\n",
    "toc: false \n",
    "layout: post\n",
    "title: Abstract Fibonaccii Hack\n",
    "description: A Fibonacci algorithm that runs using an abstract parent class.\n",
    "courses: { csa: {week: 25} }\n",
    "type: ccc\n",
    "image: /images/data_structures/fibonacci.png\n",
    "---"
   ]
  },
  {
   "cell_type": "markdown",
   "metadata": {},
   "source": [
    "![abstract]({{site.baseurl}}/images/data_structures/fibonacci.png)\n",
    "\n",
    "## Introduction\n",
    "\n",
    "This notebook uses Class definitions, ArrayLists, and Hash Maps.   My hypothosis is these data structures are probably the most widely used in the Java language.\n",
    "\n",
    "### Popcorn Hacks\n",
    "\n",
    "- Provide some reasons why you agree with my hypothesis?\n",
    "\n",
    "- Provide some data structures that you think might rival my hypothesis?\n",
    "\n",
    "- Categorize data structure mentioned, tested by college board tested, widely used, fast.\n"
   ]
  },
  {
   "cell_type": "code",
   "execution_count": 3,
   "metadata": {
    "vscode": {
     "languageId": "java"
    }
   },
   "outputs": [],
   "source": [
    "/*\n",
    " * Creator: Nighthawk Coding Society\n",
    " * Mini Lab Name: Fibonacci sequence, featuring a Stream Algorithm\n",
    " * \n",
    "*/\n",
    "\n",
    "import java.util.ArrayList;  \n",
    "import java.util.HashMap;\n",
    "import java.util.stream.Stream;\n",
    "\n",
    "/* Objective will require changing to abstract class with one or more abstract methods below */\n",
    "abstract class Fibo {\n",
    "    String name;\n",
    "    int size;\n",
    "    int hashID;\n",
    "    ArrayList<Long> list;\n",
    "    HashMap<Integer, Object> hash;\n",
    "\n",
    "    public Fibo() {\n",
    "        this(8);\n",
    "    }\n",
    "\n",
    "    public Fibo(int nth) {\n",
    "        this.size = nth;\n",
    "        this.list = new ArrayList<>();\n",
    "        this.hashID = 0;\n",
    "        this.hash = new HashMap<>();\n",
    "        \n",
    "        long start = System.nanoTime();\n",
    "        this.calc();\n",
    "        long end = System.nanoTime();\n",
    "        System.out.println(this.getClass().getSimpleName() + \" computed Fibonacci in \" + (end - start) + \" ns\");\n",
    "    }\n",
    "\n",
    "    protected abstract void calc();\n",
    "\n",
    "    public void setData(long num) {\n",
    "        list.add(num);\n",
    "        hash.put(this.hashID++, list.clone());\n",
    "    }\n",
    "\n",
    "    public long getNth() {\n",
    "        return list.get(this.size - 1);\n",
    "    }\n",
    "\n",
    "    public Object getNthSeq(int i) {\n",
    "        return hash.get(i);\n",
    "    }\n",
    "\n",
    "    public void print() {\n",
    "        System.out.println(\"Calculation method = \" + this.name);\n",
    "        System.out.println(\"Fibonacci Number \" + this.size + \" = \" + this.getNth());\n",
    "        System.out.println(\"Fibonacci List = \" + this.list);\n",
    "    }\n",
    "}"
   ]
  },
  {
   "cell_type": "code",
   "execution_count": 4,
   "metadata": {
    "vscode": {
     "languageId": "java"
    }
   },
   "outputs": [
    {
     "name": "stdout",
     "output_type": "stream",
     "text": [
      "FiboFor computed Fibonacci in 118065 ns\n",
      "Calculation method = FiboFor extends Fibo\n",
      "Fibonacci Number 2 = 1\n",
      "Fibonacci List = [0, 1]\n",
      "\n",
      "FiboFor computed Fibonacci in 73718 ns\n",
      "Calculation method = FiboFor extends Fibo\n",
      "Fibonacci Number 5 = 3\n",
      "Fibonacci List = [0, 1, 1, 2, 3]\n",
      "\n",
      "FiboFor computed Fibonacci in 53510 ns\n",
      "Calculation method = FiboFor extends Fibo\n",
      "Fibonacci Number 8 = 13\n",
      "Fibonacci List = [0, 1, 1, 2, 3, 5, 8, 13]\n",
      "\n"
     ]
    }
   ],
   "source": [
    "\n",
    "public class FiboFor extends Fibo {\n",
    "\n",
    "    public FiboFor() {\n",
    "        super();\n",
    "    }\n",
    "\n",
    "    public FiboFor(int nth) {\n",
    "        super(nth);\n",
    "    }\n",
    "\n",
    "    @Override\n",
    "    protected void calc() {\n",
    "        super.name = \"FiboFor extends Fibo\";\n",
    "        long limit = this.size;\n",
    "        // for loops are likely the most common iteration structure, all the looping facts are in one line\n",
    "        for (long[] f = new long[]{0, 1}; limit-- > 0; f = new long[]{f[1], f[0] + f[1]})\n",
    "            this.setData(f[0]);\n",
    "    }\n",
    "\n",
    "    /*\n",
    "    Tester class method.\n",
    "     */\n",
    "    static public void main(int... numbers) {\n",
    "        for (int nth : numbers) {\n",
    "            Fibo fib = new FiboFor(nth);\n",
    "            fib.print();\n",
    "            System.out.println();\n",
    "        }\n",
    "    }\n",
    "}\n",
    "\n",
    "FiboFor.main(2, 5, 8);\n"
   ]
  },
  {
   "cell_type": "code",
   "execution_count": 5,
   "metadata": {
    "vscode": {
     "languageId": "java"
    }
   },
   "outputs": [
    {
     "name": "stdout",
     "output_type": "stream",
     "text": [
      "FiboFor computed Fibonacci in 42715 ns\n",
      "Calculation method = FiboFor extends Fibo\n",
      "Fibonacci Number 2 = 1\n",
      "Fibonacci List = [0, 1]\n",
      "\n",
      "FiboFor computed Fibonacci in 58457 ns\n",
      "Calculation method = FiboFor extends Fibo\n",
      "Fibonacci Number 5 = 3\n",
      "Fibonacci List = [0, 1, 1, 2, 3]\n",
      "\n",
      "FiboFor computed Fibonacci in 65654 ns\n",
      "Calculation method = FiboFor extends Fibo\n",
      "Fibonacci Number 8 = 13\n",
      "Fibonacci List = [0, 1, 1, 2, 3, 5, 8, 13]\n",
      "\n"
     ]
    }
   ],
   "source": [
    "public class FiboStream extends Fibo {\n",
    "\n",
    "    public FiboStream() {\n",
    "        super();\n",
    "    }\n",
    "\n",
    "    public FiboStream(int nth) {\n",
    "        super(nth);\n",
    "    }\n",
    "\n",
    "    @Override\n",
    "    protected void calc() {\n",
    "        super.name = \"FiboStream extends Extends\";\n",
    "\n",
    "        // Initial element of stream: new long[]{0, 1}\n",
    "        // Lambda expression calculate the next fibo based on the current: f -> new long[]{f[1], f[0] + f[1]}\n",
    "        Stream.iterate(new long[]{0, 1}, f -> new long[]{f[1], f[0] + f[1]})\n",
    "            .limit(super.size) // stream limit\n",
    "            .forEach(f -> super.setData(f[0]) );  // set data in super class\n",
    "    }\n",
    "\n",
    "    /*\n",
    "    Tester class method.\n",
    "     */\n",
    "    static public void main(int... numbers) {\n",
    "        for (int nth : numbers) {\n",
    "            Fibo fib = new FiboFor(nth);\n",
    "            fib.print();\n",
    "            System.out.println();\n",
    "        }\n",
    "    }\n",
    "}\n",
    "\n",
    "FiboStream.main(2, 5, 8);"
   ]
  },
  {
   "cell_type": "markdown",
   "metadata": {},
   "source": [
    "## Popcorn Hacks\n",
    "Objectives of these hacks are ...\n",
    "\n",
    "1. Understand how to fullfill abstract class requirements using two additional algoritms.\n",
    "2. Use inheritance style of programming to test speed of each algorithm.  To test the speed, a.) be aware that the first run is always the slowest b.) to time something, my recommendation is 12 runs on the timed element, through out highest and lowest time in calculations.\n",
    "3. Be sure to make a tester and reporting methods.\n",
    "\n",
    ".85 basis for text based comparison inside of Jupyter Notebook lesson\n",
    "\n",
    "## Hacks\n",
    "Assign in each Team to build a Thymeleaf UI for portfolio_2025 using this example https://thymeleaf.nighthawkcodingsociety.com/mvc/fibonacci as basis.  Encorporate into Algorithms menu.\n",
    "\n",
    "Since there are three teams, one team can do Fibo, others Pali and Factorial.  Assign this to people that are struggling for contribution and presentation to checkpoints.\n",
    "\n",
    ".90 basis for FE presentation in Thymmeleaf to BE call in Spring"
   ]
  },
  {
   "cell_type": "code",
   "execution_count": 7,
   "metadata": {
    "vscode": {
     "languageId": "java"
    }
   },
   "outputs": [
    {
     "name": "stdout",
     "output_type": "stream",
     "text": [
      "FiboFor computed Fibonacci in 83218 ns\n",
      "Calculation method = FiboFor extends Fibo\n",
      "Fibonacci Number 10 = 34\n",
      "Fibonacci List = [0, 1, 1, 2, 3, 5, 8, 13, 21, 34]\n",
      "FiboWhile computed Fibonacci in 77052 ns\n",
      "Calculation method = FiboWhile\n",
      "Fibonacci Number 10 = 34\n",
      "Fibonacci List = [0, 1, 1, 2, 3, 5, 8, 13, 21, 34]\n",
      "FiboStream computed Fibonacci in 244825 ns\n",
      "Calculation method = FiboStream extends Extends\n",
      "Fibonacci Number 10 = 34\n",
      "Fibonacci List = [0, 1, 1, 2, 3, 5, 8, 13, 21, 34]\n",
      "FiboRecursion computed Fibonacci in 279187 ns\n",
      "Calculation method = FiboRecursion\n",
      "Fibonacci Number 10 = 34\n",
      "Fibonacci List = [0, 1, 1, 2, 3, 5, 8, 13, 21, 34]\n"
     ]
    }
   ],
   "source": [
    "\n",
    "class FiboWhile extends Fibo {\n",
    "    public FiboWhile(int nth) {\n",
    "        super(nth);\n",
    "    }\n",
    "\n",
    "    @Override\n",
    "    protected void calc() {\n",
    "        super.name = \"FiboWhile\";\n",
    "        long a = 0, b = 1;\n",
    "        int count = super.size;\n",
    "        while (count-- > 0) {\n",
    "            super.setData(a);\n",
    "            long temp = a;\n",
    "            a = b;\n",
    "            b = temp + b;\n",
    "        }\n",
    "    }\n",
    "}\n",
    "\n",
    "class FiboRecursion extends Fibo {\n",
    "    public FiboRecursion(int nth) {\n",
    "        super(nth);\n",
    "    }\n",
    "\n",
    "    @Override\n",
    "    protected void calc() {\n",
    "        super.name = \"FiboRecursion\";\n",
    "        for (int i = 0; i < super.size; i++) {\n",
    "            super.setData(fib(i));\n",
    "        }\n",
    "    }\n",
    "\n",
    "    private long fib(int n) {\n",
    "        if (n <= 1) return n;\n",
    "        return fib(n - 1) + fib(n - 2);\n",
    "    }\n",
    "}\n",
    "\n",
    "public class Test {\n",
    "    public static void main(String[] args) {\n",
    "        int[] testCases = {10, 20, 30};\n",
    "        new FiboFor(10).print();\n",
    "        new FiboWhile(10).print();\n",
    "        new FiboStream(10).print();\n",
    "        new FiboRecursion(10).print();\n",
    "    }\n",
    "}\n",
    "Test.main(new String[]{});\n"
   ]
  }
 ],
 "metadata": {
  "kernelspec": {
   "display_name": "Java",
   "language": "java",
   "name": "java"
  },
  "language_info": {
   "codemirror_mode": "java",
   "file_extension": ".jshell",
   "mimetype": "text/x-java-source",
   "name": "Java",
   "pygments_lexer": "java",
   "version": "17.0.14+7-Ubuntu-122.04.1"
  },
  "orig_nbformat": 4,
  "vscode": {
   "interpreter": {
    "hash": "aee8b7b246df8f9039afb4144a1f6fd8d2ca17a180786b69acc140d282b71a49"
   }
  }
 },
 "nbformat": 4,
 "nbformat_minor": 2
}
