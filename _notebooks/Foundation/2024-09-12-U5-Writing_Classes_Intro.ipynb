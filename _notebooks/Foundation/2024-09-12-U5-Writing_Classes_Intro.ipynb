{
 "cells": [
  {
   "cell_type": "raw",
   "metadata": {
    "vscode": {
     "languageId": "raw"
    }
   },
   "source": [
    "---\n",
    "layout: post\n",
    "comments: true\n",
    "title: Unit 5 - Writing Classes P1 \n",
    "courses: {'csa': {'week': 6}}\n",
    "type: ccc\n",
    "permalink: csa/period1/unit5/intro\n",
    "menu: nav/CSA_Units/csa_unit5_p1.html\n",
    "author: Nisarg, Imaad, Tanay, Dinesh\n",
    "---"
   ]
  },
  {
   "cell_type": "markdown",
   "metadata": {},
   "source": [
    "# What will we be teaching?\n",
    "We will be teaching Unit 5, Writing Classes. We will explore the anatomy of a class, fields, methods, and constructors. We will learn how constructors initialize objects and the different types, how mutators (setters) modify object properties, and how static variables belong to the class rather than any instance. By the end, there will be a solid understanding of how to create and manage objects efficiently in Java\n",
    "\n",
    "# Unit 5 Topics For Learning:\n",
    "- 5.1 Anatomy of a Class\n",
    "- 5.2 Constructors \n",
    "- 5.4 Accessor Methods\n",
    "- 5.5 Mutator \n",
    "- 5.7 Static Variables and Methods \n",
    "\n",
    "# Why do we need to write classes?\n",
    "Writing classes in Java is essential because it allows you to organize your code into reusable, modular components. Think of a class as a blueprint for creating objects. Without classes, your code would be cluttered and difficult to manage, especially as projects grow larger. Why not just write all your code in one place? Well, that would make it hard to maintain and update, leading to errors and inefficiency. Classes enable you to encapsulate data and behavior, making your code more flexible, scalable, and easier to troubleshoot. This structured approach is key for building complex, real-world applications.\n",
    "\n",
    "# Homework Assignment: Constructors, Mutators, Accessors, and Static Variables in Java\n",
    "\n",
    "## Objective:\n",
    "Create a `BankAccount` class to practice working with constructors, mutators (setters), accessors (getters), and static variables in Java.\n",
    "\n",
    "## Instructions:\n",
    "\n",
    "### Class: `BankAccount`\n",
    "- **Instance Variables:**\n",
    "  - `String accountHolderName`\n",
    "  - `double balance`\n",
    "- **Static Variable:**\n",
    "  - `static int totalAccounts` (tracks the number of accounts created)\n",
    "\n",
    "### Constructors:\n",
    "- **Default constructor:** Sets `accountHolderName` to `\"Unknown\"` and `balance` to `0.0`.\n",
    "- **Parameterized constructor:** Accepts `accountHolderName` and `balance` as parameters.\n",
    "- Both constructors should increment `totalAccounts`.\n",
    "\n",
    "### Mutator Methods:\n",
    "- `void setAccountHolderName(String name)`: Updates the account holder's name.\n",
    "- `void deposit(double amount)`: Adds money to the balance.\n",
    "- `void withdraw(double amount)`: Subtracts money from the balance (if funds are available).\n",
    "\n",
    "### Accessor Methods:\n",
    "- `String getAccountHolderName()`: Returns the account holder's name.\n",
    "- `double getBalance()`: Returns the account balance.\n",
    "- `static int getTotalAccounts()`: Returns the total number of accounts created.\n",
    "\n",
    "### Main Program (`BankApp`):\n",
    "- Create three `BankAccount` objects.\n",
    "- Modify account holder names and balances using setters.\n",
    "- Print account details using getters.\n",
    "- Display the total number of accounts created.\n",
    "\n",
    "### Example Output:\n",
    "\n",
    "```\n",
    "Account Holder: Alice  \n",
    "Balance: 500.0\n",
    "\n",
    "Account Holder: Bob  \n",
    "Balance: 1000.0\n",
    "\n",
    "Account Holder: Charlie  \n",
    "Balance: 750.0\n",
    "\n",
    "Total number of accounts created: 3\n",
    "```\n",
    "\n",
    "### Submission:\n",
    "Submit a Jupyter Notebook file containing your final code."
   ]
  },
  {
   "cell_type": "code",
   "execution_count": 22,
   "metadata": {},
   "outputs": [
    {
     "name": "stdout",
     "output_type": "stream",
     "text": [
      "Account 1 (Alice) has 600.000000 Balance \n",
      "Account 2 (Bob) has 900.000000 Balance \n",
      "Account 3 (Hanlun) has 750.000000 Balance \n",
      "Total of 3 Accounts"
     ]
    },
    {
     "data": {
      "text/plain": [
       "java.io.PrintStream@44908f72"
      ]
     },
     "execution_count": 22,
     "metadata": {},
     "output_type": "execute_result"
    }
   ],
   "source": [
    "public class BankAccount  {\n",
    "    private String accountHolderName;\n",
    "    private double balance;\n",
    "    private static int totalAccounts=0;\n",
    "    public void setAccountHolderName(String name){\n",
    "        accountHolderName = name;\n",
    "    }\n",
    "    public void deposit(double amount){\n",
    "        balance = balance + amount;\n",
    "    }\n",
    "    public void withdraw(double amount){\n",
    "        balance = balance - amount;\n",
    "    }\n",
    "    public String getAccountHolderName(){\n",
    "        return accountHolderName;\n",
    "    }\n",
    "    public double getBalance(){\n",
    "        return balance;\n",
    "    }\n",
    "    public static int getTotalAccounts(){\n",
    "        return totalAccounts;\n",
    "    }\n",
    "    public BankAccount(String accountHolderName, double balance){\n",
    "        this.accountHolderName = accountHolderName;\n",
    "        this.balance = balance;\n",
    "        totalAccounts++;\n",
    "    }\n",
    "}\n",
    "BankAccount account1 = new BankAccount(\"Alice\", 500.0);\n",
    "BankAccount account2 = new BankAccount(\"Bob\", 1000.0);\n",
    "BankAccount account3 = new BankAccount(\"Charlie\", 750.0);\n",
    "account1.deposit(100.0);\n",
    "account2.withdraw(100.0);\n",
    "account3.setAccountHolderName(\"Hanlun\");\n",
    "System.out.printf(\"Account 1 (%s) has %f Balance \\n\", account1.getAccountHolderName(), account1.getBalance());\n",
    "System.out.printf(\"Account 2 (%s) has %f Balance \\n\", account2.getAccountHolderName(), account2.getBalance());\n",
    "System.out.printf(\"Account 3 (%s) has %f Balance \\n\", account3.getAccountHolderName(), account3.getBalance());\n",
    "System.out.printf(\"Total of %d Accounts\", BankAccount.getTotalAccounts());"
   ]
  }
 ],
 "metadata": {
  "kernelspec": {
   "display_name": "Java",
   "language": "java",
   "name": "java"
  },
  "language_info": {
   "codemirror_mode": "java",
   "file_extension": ".jshell",
   "mimetype": "text/x-java-source",
   "name": "java",
   "pygments_lexer": "java",
   "version": "17.0.12+7-Ubuntu-1ubuntu222.04"
  }
 },
 "nbformat": 4,
 "nbformat_minor": 2
}
