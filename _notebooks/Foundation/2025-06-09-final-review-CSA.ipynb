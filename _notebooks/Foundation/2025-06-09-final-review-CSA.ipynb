{
 "cells": [
  {
   "cell_type": "markdown",
   "metadata": {},
   "source": [
    "---\n",
    "layout: post\n",
    "title: Final Review\n",
    "permalink: /CSA_Final_Review\n",
    "comments: true\n",
    "---"
   ]
  },
  {
   "cell_type": "markdown",
   "metadata": {},
   "source": [
    "### Overview of Projects & Unique Contributions\n",
    "\n",
    "In our class-wide project, we developed an integrated game platform that included a casino system with games, a banking backend, and persistent user financial data.\n",
    "\n",
    "A unique challenge I tackled was integrating our banking schema with everyone's existing codebase. This involved reading, understanding, and modifying dozens of Java files, caefully resolving dependencies and ensuring data consistency across the project.\n",
    "\n",
    "Another key innovation was in designing our analytics and profit map system. I had to determine the most efficient data types and structures for tracking and updating user profits/losses in real time—balancing performance with clarity in our SQL schema and JPA mappings.\n",
    "\n",
    "---\n",
    "\n",
    "### Certification of Articulation Success with Data Structures\n",
    "\n",
    "Homework Links\n",
    "- [hw1]({{site.baseurl}}/hw_2)\n",
    "- [hw2]({{site.baseurl}}/hw_3)\n",
    "- [hw3]({{site.baseurl}}/hw_4)\n",
    "- [hw4]({{site.baseurl}}/hw_5)\n",
    "- [hw6]({{site.baseurl}}/hw_6)\n",
    "\n",
    "---\n",
    "\n",
    "### Showcasing Projects \n",
    "\n",
    "![image]({{site.baseurl}}/images/2025_n&tm.png)\n"
   ]
  }
 ],
 "metadata": {
  "language_info": {
   "name": "python"
  }
 },
 "nbformat": 4,
 "nbformat_minor": 2
}
