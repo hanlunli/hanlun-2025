{
 "cells": [
  {
   "cell_type": "markdown",
   "metadata": {},
   "source": [
    "---\n",
    "layout: post\n",
    "title: MCQ Review\n",
    "type: issues \n",
    "comments: true\n",
    "hide: true\n",
    "permalink: /mcq\n",
    "---"
   ]
  },
  {
   "cell_type": "markdown",
   "metadata": {},
   "source": [
    "# Review\n",
    "- I reviewed my incorrect answers with Dinesh over a call\n",
    "\n",
    "# Questions\n",
    "- Q3: a private get function wouldn't be able to be accessed by other classes\n",
    "![image]({{site.baseurl}}/images/mcq/q3.png)\n",
    "- Q5: each number in the list is equal to an incrementing constant, k, squared, then added to 3, so it would be [4, 7, 12, 19, 28, 39]\n",
    "![image]({{site.baseurl}}/images/mcq/q5.png)\n",
    "- Q8: the construtor doesn't work with string, string as the parameters, so I and II are right\n",
    "![image]({{site.baseurl}}/images/mcq/q8.png)\n",
    "- Q12: this code prints out every other letter, starting from the second letter\n",
    "![image]({{site.baseurl}}/images/mcq/q12.png)\n",
    "- Q15: III only checks the first and second elements, not the rest\n",
    "![image]({{site.baseurl}}/images/mcq/q15.png)\n",
    "- Q23: The manipulate method iterates through a list of animal names in reverse, moving elements that start with \"b\" to specific positions. Key changes include moving \"baboon\" to index 1 and later to index 5, resulting in the final list: {\"bear\", \"zebra\", \"bass\", \"cat\", \"koala\", \"baboon\"}."
   ]
  }
 ],
 "metadata": {
  "language_info": {
   "name": "python"
  }
 },
 "nbformat": 4,
 "nbformat_minor": 2
}
