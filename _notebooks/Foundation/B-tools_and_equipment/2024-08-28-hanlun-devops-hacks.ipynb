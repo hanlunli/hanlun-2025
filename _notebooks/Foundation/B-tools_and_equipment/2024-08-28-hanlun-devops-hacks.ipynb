{
 "cells": [
  {
   "cell_type": "code",
   "execution_count": null,
   "metadata": {},
   "outputs": [],
   "source": []
  },
  {
   "cell_type": "markdown",
   "metadata": {},
   "source": [
    "# Tool Installation Summary:\n",
    "The files from github are placed into my machine inside the hanlun-2025 directory. THe localhost url for my project is http://127.0.0.1:4100/hanlun-2025/. This url is one that no one else but me can access, as my project is being run locally. The git hub pages URL for my project is https://hanlunli.github.io/hanlun-2025/. Other people can see this, since it's deployed onto Github Pages.\n",
    "\n"
   ]
  }
 ],
 "metadata": {
  "language_info": {
   "name": "python"
  }
 },
 "nbformat": 4,
 "nbformat_minor": 2
}
