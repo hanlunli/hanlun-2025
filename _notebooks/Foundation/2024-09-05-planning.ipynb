{
 "cells": [
  {
   "cell_type": "markdown",
   "metadata": {
    "vscode": {
     "languageId": "raw"
    }
   },
   "source": [
    "---\n",
    "layout: post\n",
    "title: Planning\n",
    "description: List of my plans\n",
    "permalink: /planning\n",
    "comments: true\n",
    "---"
   ]
  },
  {
   "cell_type": "markdown",
   "metadata": {},
   "source": [
    "## Accomplished\n",
    "- I successfully made a python program to change all instances of the word monkey into the monkey emoji from the hit wikipeida article Monkeys.\n",
    "- Modified my index.md page\n",
    "- changed sass of my site\n",
    "- Accomplished sprint 1 hacks\n",
    "\n",
    "## Attempted\n",
    "- I tried to grab articles from cnn, and replace every word with a random emoji\n",
    "- I attempted to install ditto"
   ]
  }
 ],
 "metadata": {
  "language_info": {
   "name": "python"
  }
 },
 "nbformat": 4,
 "nbformat_minor": 2
}
