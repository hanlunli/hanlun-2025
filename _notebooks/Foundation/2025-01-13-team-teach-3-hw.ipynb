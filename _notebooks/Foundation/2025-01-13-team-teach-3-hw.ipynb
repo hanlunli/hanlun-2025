{
 "cells": [
  {
   "cell_type": "markdown",
   "metadata": {},
   "source": [
    "---\n",
    "layout: post\n",
    "title: HW Numero Tres\n",
    "permalink: /hw_3\n",
    "comments: true\n",
    "---"
   ]
  },
  {
   "cell_type": "code",
   "execution_count": null,
   "metadata": {},
   "outputs": [],
   "source": [
    "public class CombinedTable {\n",
    "    private SingleTable t1;\n",
    "    private SingleTable t2;\n",
    "    public CombinedTable(t1, t2){\n",
    "        this.t1 = t1;\n",
    "        this.t2 = t2;\n",
    "    }\n",
    "    public boolean canSeat(int seats){\n",
    "        if (seats <= t1.getNumSeats() + t2.getNumSeats()){\n",
    "            return true;\n",
    "        }\n",
    "        return false;\n",
    "    }\n",
    "    public double getDesirability(){\n",
    "        if (t1.getHeight() == t2.getHeight()){\n",
    "            return (t1.getViewQuality()+t2.getViewQuality())/2;\n",
    "        }\n",
    "        else {\n",
    "            return (t1.getViewQuality()+t2.getViewQuality())/2 - 10.00;\n",
    "        }\n",
    "    }\n",
    "}"
   ]
  },
  {
   "cell_type": "markdown",
   "metadata": {},
   "source": [
    "## SELF SCORING:\n",
    "Declares class and constructor headers properly: 0/1 (failed to use SingleTable object in constructor)\n",
    "\n",
    "Declares appropriate private instance variables including at least two SingleTable references: 1/1\n",
    "\n",
    "Constructor initializes instance variables using parameters: 1/1\n",
    "\n",
    "Declares method header public boolean canSeat(int ___): 1/1\n",
    "\n",
    "Calls getNumSeats on SingleTable objects: 1/1\n",
    "\n",
    "canSeat(int) returns true if and only if sum of seats of two tables - 2 >= n: 0/1 (instead of using >=, i used <=)\n",
    "\n",
    "Declares method header public double getDesirability(): 1/1\n",
    "\n",
    "Calls getHeight and getViewQuality on SingleTable objects: 1/1\n",
    "\n",
    "getDesirability computes the average desirability correctly: 1/1"
   ]
  },
  {
   "cell_type": "markdown",
   "metadata": {},
   "source": [
    "## CORRECTED CODE:"
   ]
  },
  {
   "cell_type": "code",
   "execution_count": null,
   "metadata": {},
   "outputs": [],
   "source": [
    "public class CombinedTable {\n",
    "    private SingleTable t1;\n",
    "    private SingleTable t2;\n",
    "    public CombinedTable(SingleTable t1, SingleTable t2){\n",
    "        this.t1 = t1;\n",
    "        this.t2 = t2;\n",
    "    }\n",
    "    public boolean canSeat(int seats){\n",
    "        if (seats >= t1.getNumSeats() + t2.getNumSeats()){\n",
    "            return true;\n",
    "        }\n",
    "        return false;\n",
    "    }\n",
    "    public double getDesirability(){\n",
    "        if (t1.getHeight() == t2.getHeight()){\n",
    "            return (t1.getViewQuality()+t2.getViewQuality())/2;\n",
    "        }\n",
    "        else {\n",
    "            return (t1.getViewQuality()+t2.getViewQuality())/2 - 10.00;\n",
    "        }\n",
    "    }\n",
    "}"
   ]
  }
 ],
 "metadata": {
  "kernelspec": {
   "display_name": "Java",
   "language": "java",
   "name": "java"
  },
  "language_info": {
   "name": "java"
  }
 },
 "nbformat": 4,
 "nbformat_minor": 2
}
