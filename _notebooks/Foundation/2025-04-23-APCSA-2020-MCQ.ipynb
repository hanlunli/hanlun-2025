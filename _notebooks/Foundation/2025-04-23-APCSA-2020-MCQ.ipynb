{
 "cells": [
  {
   "cell_type": "markdown",
   "metadata": {},
   "source": [
    "---\n",
    "layout: post\n",
    "title: MCQ Review\n",
    "permalink: /CSA_MCQ_Review\n",
    "comments: true\n",
    "---"
   ]
  },
  {
   "cell_type": "markdown",
   "metadata": {},
   "source": [
    "# MCQ Review: (Score: 31/40)\n",
    "\n",
    "## MISSED QUESTIONS:\n",
    "\n",
    "- Question 1: misclicked :(\n",
    "\n",
    "![image]({{site.baseurl}}/images/mcq3/q1.png)\n",
    "\n",
    "- Question 6: applying the double cast to 2/4 makes it equal to 0.0\n",
    "\n",
    "![image]({{site.baseurl}}/images/mcq3/q6.png)\n",
    "\n",
    "- Question 16: the recursion makes it start from 2 -> 5\n",
    "\n",
    "![image]({{site.baseurl}}/images/mcq3/q16.png)\n",
    "\n",
    "- Question 24: I didn't read that every time a new object is made, y increments by 1.\n",
    "\n",
    "![image]({{site.baseurl}}/images/mcq3/q24.png)\n",
    "\n",
    "- Question 24: I didn't read that every time a new object is made, y increments by 1.\n",
    "\n",
    "![image]({{site.baseurl}}/images/mcq3/q24.png)\n",
    "\n",
    "- Question 28: I forgot that substring without 2 indexes takes the substring from the provided index to the end of the string\n",
    "\n",
    "![image]({{site.baseurl}}/images/mcq3/q28.png)\n",
    "\n",
    "- Question 31: III is wrong because i is each element, not index\n",
    "\n",
    "![image]({{site.baseurl}}/images/mcq3/q31.png)\n",
    "\n",
    "- Question 31: III is wrong because i is each element, not index\n",
    "\n",
    "![image]({{site.baseurl}}/images/mcq3/q31.png)\n",
    "\n",
    "- Question 33: prints out each column, not row.\n",
    "![image]({{site.baseurl}}/images/mcq3/q33.png)"
   ]
  }
 ],
 "metadata": {
  "language_info": {
   "name": "python"
  }
 },
 "nbformat": 4,
 "nbformat_minor": 2
}
