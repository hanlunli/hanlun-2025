{
 "cells": [
  {
   "cell_type": "markdown",
   "metadata": {},
   "source": [
    "---\n",
    "layout: post\n",
    "title: Reivew Ticket\n",
    "permalink: /review_ticket\n",
    "comments: true\n",
    "---"
   ]
  },
  {
   "cell_type": "markdown",
   "metadata": {},
   "source": [
    "\n",
    "\n",
    "## Linux Verify:\n",
    "[Linux Verify Link]({{site.baseurl}}/devops/tools/verify)\n",
    "\n",
    "\n",
    "## Github Pages Actions:\n",
    "[Github Pages Actions Link](https://github.com/hanlunli/hanlun-2025/actions)\n",
    "\n",
    "## Hacks Tools & Equipment Play:\n",
    "[HTEP Link]({{site.baseurl}}/pythonplay)\n",
    "\n",
    "## Hacks GitHub Pages Playground && SASS Hacks:\n",
    "[HGPPSH Link]({{site.baseurl}}/)\n",
    "\n",
    "## Frontend Hacks:\n",
    "[Frontend Hacks Link]({{site.baseurl}}/frontend/basics/playground)\n",
    "\n",
    "## Pair Programming:\n",
    "[Pair Programming]({{site.baseurl}})"
   ]
  }
 ],
 "metadata": {
  "language_info": {
   "name": "python"
  }
 },
 "nbformat": 4,
 "nbformat_minor": 2
}
