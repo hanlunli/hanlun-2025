{
 "cells": [
  {
   "cell_type": "markdown",
   "metadata": {},
   "source": [
    "---\n",
    "layout: post\n",
    "title: Reivew Ticket\n",
    "permalink: /review_ticket\n",
    "comments: true\n",
    "---"
   ]
  },
  {
   "cell_type": "markdown",
   "metadata": {},
   "source": [
    "\n",
    "\n",
    "## Linux Verify:\n",
    "[Linux Verify Link]({{site.baseurl}}/devops/tools/verify)\n",
    "\n",
    "\n",
    "## Github Pages Actions:\n",
    "[Github Pages Actions Link](https://github.com/hanlunli/hanlun-2025/actions)\n",
    "\n",
    "## Hacks Tools & Equipment Play:\n",
    "[HTEP Link]({{site.baseurl}}/pythonplay)\n",
    "\n",
    "## Hacks GitHub Pages Playground && SASS Hacks:\n",
    "[HGPPSH Link]({{site.baseurl}}/)\n",
    "\n",
    "## Frontend Hacks:\n",
    "[Frontend Hacks Link]({{site.baseurl}}/frontend/basics/playground)\n",
    "\n",
    "## Pair Programming:\n",
    "[Pair Programming](https://leetcode.com/problems/insert-greatest-common-divisors-in-linked-list/submissions/1385569920/?envType=daily-question&envId=2024-09-10)\n",
    "\n",
    "## Table: \n",
    "\n",
    "| Skill                          | Mastered (Y/N) | Rank (1-4) | Ratio | Notes                                                                                              |\n",
    "|---------------------------------|----------------|------------|-------|----------------------------------------------------------------------------------------------------|\n",
    "| Laptop Verification or Cloud Workspace | [Y]            | 4          | 4     | [System Tests]({{site.baseurl}}/devops/tools/verify)                                                                      |\n",
    "| VSCode                          | [Y]            | 4          | 4     | [Student Blog](https://hanlunli.github.io/hanlun-2025/) [Student Analytics](https://github.com/hanlunli/hanlun-2025/actions)       |\n",
    "| Show VSCode GitLens             | [Y]            | 4          | 4     | showcase on local machine                         |\n",
    "| GitHub student_2025 repo        | [Y]            | 4          | 4.0   | [Github Repo](https://github.com/hanlunli/hanlun-2025/)                                                         |\n",
    "| GitHub Pages Actions            | [Y]            | 4          | 4.0   |[Runtime Evidence](https://github.com/hanlunli/hanlun-2025/commits/main/)                                                      |\n",
    "| Hacks Tools & Equipment Play    | [Y]            | 4          | 4.0   | [Tools and equipment hack]({{site.baseurl}}/pythonplay)                                                                                              |\n",
    "| Hacks GitHub Pages Playground   | [Y]            | 3          | 3.0   | [Github Pages Hacks]({{site.baseurl}}/)                                                                                          |\n",
    "| Hacks SASS Basics               | [Y]            | 3          | 3.0   |[SASS Basics Hacks]({{site.baseurl}}/))                                                                                           |\n",
    "| Pair Programming                | [Y]            | 4          | 4.0   | Show Leetcode Problems                                                                       |\n",
    "| Hacks Frontend                | [Y]            | 4          | 4.0   | [Frontend Hacks Link]({{site.baseurl}}/frontend/basics/playground)                                                                       |\n",
    "| Total                           |                | 38.0       |       |                                                                                                    |\n",
    "| Average                         |                | 3.8       |       |                                                                                                    |"
   ]
  },
  {
   "cell_type": "markdown",
   "metadata": {},
   "source": [
    "| Skill          | Mastered (Y/N) | Rank (1-4) | Ratio | Notes |\n",
    "|----------------|----------------|------------|-------|-------|\n",
    "| Attendance     | [Y]            | 4          | 4.0   |I showed up on time every day|\n",
    "| Work Habits    | [Y]            | 4          | 4.0   |I think that I was working on CSA related things every day|\n",
    "| Behavior       | [Y]            | 4          | 4.0   |I think I showed appropriate behavior|\n",
    "| Timeliness     | [N]            | 3          | 3.0   |I could go up to review earlier for the reviews|\n",
    "| Tech Sense     | [Y]            | 4          | 4.0   |I think I understand the things that we go over in class/learn by ourselves pretty well.|\n",
    "| Tech Talk      | [N]            | 3          | 3.0   |I could have talked more during the reviews|\n",
    "| Tech Growth    | [Y]            | 4          | 4.0   |I think I've learned a lot about Java so far|\n",
    "| Advocacy       | [N]            | 3          | 3.0   |       |\n",
    "| Comm & Collab  | [Y]            | 4          | 4.0   |I think I communicated and collaborated very effectively with my group|\n",
    "| Integrity      | [Y]            | 4          | 4.0   |       |\n",
    "| Organized      | [N]            | 3          | 3.0   |       |\n",
    "| **Total**      |                |            | 30.0   |       |\n",
    "| **Average**    |                |            | 3.64   |       |\n"
   ]
  }
 ],
 "metadata": {
  "language_info": {
   "name": "python"
  }
 },
 "nbformat": 4,
 "nbformat_minor": 2
}
