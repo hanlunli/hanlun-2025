{
 "cells": [
  {
   "cell_type": "raw",
   "metadata": {
    "vscode": {
     "languageId": "raw"
    }
   },
   "source": [
    "---\n",
    "layout: post\n",
    "toc: true\n",
    "title: 7.7 - Ethical Issues around Data Collection\n",
    "description: Ethical issues around data collection with ArrayLists\n",
    "authors: Aidan Lau, Saathvik Gampa, Sri Surapaneni, Tanav Kambhampati\n",
    "categories: [AP CSA]\n",
    "type: ccc\n",
    "permalink: /csa/unit7-p1/unit7-7\n",
    "menu: nav/CSA_Units/csa_unit7_p1.html\n",
    "---"
   ]
  },
  {
   "cell_type": "markdown",
   "metadata": {},
   "source": [
    "# 7.7: Ethical issues around Data Collection"
   ]
  },
  {
   "cell_type": "markdown",
   "metadata": {},
   "source": [
    "### Learning Objectives:\n",
    "- Explaining the risks of privacy from collecting and storing personal data on computer systems.\n",
    "\n",
    "### Essential Knowledge:\n",
    "- Data Collection: Methods (cookies, tracking, etc.)\n",
    "- Ethical Data Use: Identifying Personal data (Personal Identifiable Information, Sensitive Personal Information)\n",
    "- Security Practices: Data Encryption, Data Anonymization, Data Minimization"
   ]
  },
  {
   "cell_type": "markdown",
   "metadata": {},
   "source": [
    "## Privacy Protection mechanisms\n",
    "- Encryption: Encode data for only authorized users to access.\n",
    "- Anonymization: Remove personal information from data.\n",
    "- Data Minimization: Collect only necessary data.\n",
    "- User Control: Allowing users to control how their data is used\n"
   ]
  },
  {
   "cell_type": "code",
   "execution_count": 4,
   "metadata": {
    "vscode": {
     "languageId": "java"
    }
   },
   "outputs": [
    {
     "name": "stdout",
     "output_type": "stream",
     "text": [
      "Original Data: mySecretPassword123\n",
      "Hash Code: 1107444891\n",
      "Same Data Hash: 1107444891\n",
      "Modified Data: mySecretPassword124\n",
      "Modified Data Hash: 1107444892\n"
     ]
    }
   ],
   "source": [
    "// Example string data\n",
    "String originalData = \"mySecretPassword123\";\n",
    "\n",
    "// Generate a hash code for the string\n",
    "int hash = originalData.hashCode();\n",
    "\n",
    "// Display the original data and its hash\n",
    "System.out.println(\"Original Data: \" + originalData);\n",
    "System.out.println(\"Hash Code: \" + hash);\n",
    "\n",
    "// Demonstrate that the same string always produces the same hash\n",
    "String sameData = \"mySecretPassword123\";\n",
    "int sameHash = sameData.hashCode();\n",
    "System.out.println(\"Same Data Hash: \" + sameHash);\n",
    "\n",
    "// Demonstrate that a small change in data produces a different hash\n",
    "String modifiedData = \"mySecretPassword124\";\n",
    "int modifiedHash = modifiedData.hashCode();\n",
    "System.out.println(\"Modified Data: \" + modifiedData);\n",
    "System.out.println(\"Modified Data Hash: \" + modifiedHash);"
   ]
  },
  {
   "cell_type": "markdown",
   "metadata": {},
   "source": [
    "### Uses of Hashing\n",
    "- Hashing is used to store passwords securely but it is not enough for large scale industries.\n",
    "- Hashing is used to conceal sensitive information like credit card information but not enough to protect it entirely."
   ]
  },
  {
   "cell_type": "markdown",
   "metadata": {},
   "source": [
    "### Hashing with Salt\n",
    "\n",
    "As we talked about earlier in the hashing section, hashing is a one-way function. This means that once you hash a value, you can't get the original value back. This is useful for storing passwords, but it also means that if two users have the same password, they will have the same hash. This is a problem because if an attacker gets access to the hash, they can use a rainbow table to look up the hash and find the original password.\n",
    "\n",
    "Thus, we use Hasing with Salt which means that even if 2 users have the same password, they will have different hashes because we add a random value to the password before hashing it. This random value is called a salt."
   ]
  },
  {
   "cell_type": "markdown",
   "metadata": {},
   "source": [
    "## Homework"
   ]
  },
  {
   "cell_type": "markdown",
   "metadata": {},
   "source": [
    "### Homework Problem: Exploring Hashing and Privacy Protection (Extra Credit)\n",
    "\n",
    "#### **Problem:**\n",
    "Write a Java program that simulates how hashing works in protecting passwords. You will implement the following tasks:\n",
    "\n",
    "1. **Task 1: Basic Password Hashing**\n",
    "   - Write a program that accepts a user's password input and generates a hash using the **`hashCode()`** method.\n",
    "   - Display the original password and the hash to show how the same input always produces the same hash.\n",
    "\n",
    "2. **Task 2: Salting the Password**\n",
    "   - Enhance the program by generating a random **salt** for the password. Append the salt to the password before hashing, and display both the salt and the hashed password.\n",
    "   - Store the salt separately and demonstrate that the same password with a different salt produces a different hash.\n",
    "\n",
    "3. **Task 3: Verifying the Password**\n",
    "   - Write a method that simulates logging in by taking a password and salt as input, hashing them again, and comparing the result to the previously stored hash.\n",
    "   - If the hash matches, display \"Login Successful\"; otherwise, display \"Login Failed.\"\n",
    "\n",
    "#### **Extra Challenge (Optional):**\n",
    "- Research and use the **`MessageDigest`** class in Java to implement password hashing with a more secure algorithm like **SHA-256**. Modify your program to use this instead of `hashCode()`.\n",
    "\n"
   ]
  },
  {
   "cell_type": "code",
   "execution_count": 2,
   "metadata": {
    "vscode": {
     "languageId": "java"
    }
   },
   "outputs": [
    {
     "name": "stdout",
     "output_type": "stream",
     "text": [
      "Enter a password: Original password: f\n",
      "Hashed password (using hashCode): 102\n",
      "\n",
      "Generated salt: }yM?+j>j\n",
      "Salted password: f}yM?+j>j\n",
      "Hashed salted password (using hashCode): 1408972639\n",
      "\n",
      "Re-enter password to verify: Login Successful\n",
      "\n",
      "Secure Hashing with SHA-256\n",
      "SHA-256 Hashed salted password: 8866782cd82a4398b8f38263c4f123cdf626cf9855893ff20293c16257b87992\n",
      "\n",
      "Re-enter password to verify (SHA-256): \n",
      "Login Successful (SHA-256)\n"
     ]
    }
   ],
   "source": [
    "import java.nio.charset.StandardCharsets;\n",
    "import java.security.MessageDigest;\n",
    "import java.security.NoSuchAlgorithmException;\n",
    "import java.util.Random;\n",
    "import java.util.Scanner;\n",
    "\n",
    "public class PasswordHashing {\n",
    "\n",
    "    public static void main(String[] args) throws NoSuchAlgorithmException {\n",
    "        Scanner scanner = new Scanner(System.in);\n",
    "\n",
    "        System.out.print(\"Enter a password: \");\n",
    "        String password = scanner.nextLine();\n",
    "        System.out.println(\"Original password: \" + password);\n",
    "        System.out.println(\"Hashed password (using hashCode): \" + password.hashCode());\n",
    "\n",
    "        String salt = generateSalt();\n",
    "        System.out.println(\"\\nGenerated salt: \" + salt);\n",
    "        String saltedPassword = password + salt;\n",
    "        System.out.println(\"Salted password: \" + saltedPassword);\n",
    "        System.out.println(\"Hashed salted password (using hashCode): \" + saltedPassword.hashCode());\n",
    "\n",
    "        System.out.print(\"\\nRe-enter password to verify: \");\n",
    "        String passwordToVerify = scanner.nextLine();\n",
    "        String saltedPasswordToVerify = passwordToVerify + salt;\n",
    "        if (saltedPasswordToVerify.hashCode() == saltedPassword.hashCode()) {\n",
    "            System.out.println(\"Login Successful\");\n",
    "        } else {\n",
    "            System.out.println(\"Login Failed\");\n",
    "        }\n",
    "\n",
    "        System.out.println(\"\\nSecure Hashing with SHA-256\");\n",
    "        String secureHash = hashWithSHA256(saltedPassword);\n",
    "        System.out.println(\"SHA-256 Hashed salted password: \" + secureHash);\n",
    "\n",
    "        System.out.print(\"\\nRe-enter password to verify (SHA-256): \\n\");\n",
    "        String passwordToVerifySHA256 = scanner.nextLine();\n",
    "        String saltedPasswordToVerifySHA256 = passwordToVerifySHA256 + salt;\n",
    "        String secureHashToVerify = hashWithSHA256(saltedPasswordToVerifySHA256);\n",
    "        if (secureHashToVerify.equals(secureHash)) {\n",
    "            System.out.println(\"Login Successful (SHA-256)\");\n",
    "        } else {\n",
    "            System.out.println(\"Login Failed (SHA-256)\");\n",
    "        }\n",
    "    }\n",
    "\n",
    "    private static String generateSalt() {\n",
    "        Random random = new Random();\n",
    "        StringBuilder salt = new StringBuilder();\n",
    "        for (int i = 0; i < 8; i++) {\n",
    "            int randomChar = 33 + random.nextInt(93);\n",
    "            salt.append((char) randomChar);\n",
    "        }\n",
    "        return salt.toString();\n",
    "    }\n",
    "\n",
    "    private static String hashWithSHA256(String input) throws NoSuchAlgorithmException {\n",
    "        MessageDigest digest = MessageDigest.getInstance(\"SHA-256\");\n",
    "        byte[] encodedHash = digest.digest(input.getBytes(StandardCharsets.UTF_8));\n",
    "        StringBuilder hexString = new StringBuilder();\n",
    "        for (byte b : encodedHash) {\n",
    "            String hex = Integer.toHexString(0xff & b);\n",
    "            if (hex.length() == 1) hexString.append('0');\n",
    "            hexString.append(hex);\n",
    "        }\n",
    "        return hexString.toString();\n",
    "    }\n",
    "}\n",
    "PasswordHashing.main(null);"
   ]
  }
 ],
 "metadata": {
  "kernelspec": {
   "display_name": "Java",
   "language": "java",
   "name": "java"
  },
  "language_info": {
   "codemirror_mode": "java",
   "file_extension": ".jshell",
   "mimetype": "text/x-java-source",
   "name": "Java",
   "pygments_lexer": "java",
   "version": "17.0.12+7-Ubuntu-1ubuntu222.04"
  }
 },
 "nbformat": 4,
 "nbformat_minor": 2
}
