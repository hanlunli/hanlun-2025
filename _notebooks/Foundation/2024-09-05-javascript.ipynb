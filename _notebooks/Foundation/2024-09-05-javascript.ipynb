{
 "cells": [
  {
   "cell_type": "markdown",
   "metadata": {
    "vscode": {
     "languageId": "raw"
    }
   },
   "source": [
    "---\n",
    "layout: post\n",
    "title: Javascript\n",
    "description: Simple lil javascript thing\n",
    "permalink: /javascript\n",
    "comments: true\n",
    "---"
   ]
  },
  {
   "cell_type": "markdown",
   "metadata": {
    "vscode": {
     "languageId": "html"
    }
   },
   "source": [
    "<h2>Simple Javascript Thingy</h2>\n",
    "\n",
    "<button onclick=\"showMessage()\">CLICK ME!</button>\n",
    "<script>\n",
    "    function showMessage() {\n",
    "        alert(\"Hello! This is a simple JavaScript example.\");\n",
    "    }\n",
    "</script>\n",
    "\n"
   ]
  }
 ],
 "metadata": {
  "kernelspec": {
   "display_name": "venv",
   "language": "python",
   "name": "python3"
  },
  "language_info": {
   "codemirror_mode": {
    "name": "ipython",
    "version": 3
   },
   "file_extension": ".py",
   "mimetype": "text/x-python",
   "name": "python",
   "nbconvert_exporter": "python",
   "pygments_lexer": "ipython3",
   "version": "3.10.12"
  }
 },
 "nbformat": 4,
 "nbformat_minor": 2
}
