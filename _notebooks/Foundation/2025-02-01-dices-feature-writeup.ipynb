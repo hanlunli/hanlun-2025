{
 "cells": [
  {
   "cell_type": "markdown",
   "metadata": {},
   "source": [
    "---\n",
    "layout: post\n",
    "title: Dices Writeup\n",
    "permalink: /Dices_Writeup\n",
    "comments: true\n",
    "---"
   ]
  },
  {
   "cell_type": "markdown",
   "metadata": {},
   "source": [
    "# Backend\n",
    "\n",
    "### Dice Class:\n",
    "- uses random number generator for betting logic (Random package in java)\n",
    "- calculates winnings based off of betSize and winChance\n",
    "- Returns a negative amount for losses and a scaled reward for wins.\n",
    "\n",
    "### Dice Api Controller\n",
    "- Receives bet requests from the frontend via POST /api/casino/dice/calculate.\n",
    "- Retrieves user details from the PersonJpaRepository using a unique UID.\n",
    "- Validates balance before processing a bet.\n",
    "- Updates and saves the new balance in the database.\n",
    "\n",
    "# Frontend\n",
    "\n",
    "### UI\n",
    "- slider for winChance, input box for bet size (min 1000)\n",
    "- graph to display winnings over time (will be integrated into bank)\n",
    "- error handling for bet errors/login issues"
   ]
  }
 ],
 "metadata": {
  "language_info": {
   "name": "python"
  }
 },
 "nbformat": 4,
 "nbformat_minor": 2
}
