{
 "cells": [
  {
   "cell_type": "markdown",
   "metadata": {},
   "source": [
    "---\n",
    "layout: post\n",
    "title: Sprint2\n",
    "type: issues \n",
    "comments: true\n",
    "hide: true\n",
    "permalink: /sprint2\n",
    "---"
   ]
  },
  {
   "cell_type": "markdown",
   "metadata": {},
   "source": [
    "| **Assignment**             | **Points**    | **Grade** | **Evidence** |\n",
    "|----------------------------|---------------|-----------|--------------|\n",
    "| Pull Request (Integration) | 2             |   1.8     |   [link](https://github.com/nighthawkcoders/portfolio_2025/pulls?q=is%3Apr+is%3Aclosed+author%3Ahanlunli)        |\n",
    "| Relevancy Checklist (Peer) | 2             |     1.8      |              |\n",
    "| Lesson (Group)             | 1             |    0.9       |              |\n",
    "| Homework, Popcorn Hacks    | 1 x 8         |   5.46/6 (not all graded yet)        | 0.9+0.9+0.91+0.95+0.9+0.9             |\n",
    "| Individual Contribution    | 1             |     0.9      |             |\n",
    "| Personal Notebooks / Blogs | 1             |           |              |\n",
    "| Total                      | 12            |           |              |\n",
    "\n",
    "\n",
    "| **Skill**                  | **Points**    | **Grade** | **Evidence** |\n",
    "|----------------------------|---------------|-----------|--------------|\n",
    "| Work Habits (Analytics)    |   1           |           |              |\n",
    "| Team Planning (Issue)      |   1           |           |              |\n",
    "| Presentation Memories      |   1           |           |              |\n",
    "| Grading and Feedback       |   1           |           |              |\n",
    "| Beyond Perfunctory         |   1           |           |              | \n",
    "| Total                      |   5           |           |              |"
   ]
  }
 ],
 "metadata": {
  "language_info": {
   "name": "python"
  }
 },
 "nbformat": 4,
 "nbformat_minor": 2
}
