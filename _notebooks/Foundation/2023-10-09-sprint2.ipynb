{
 "cells": [
  {
   "cell_type": "markdown",
   "metadata": {},
   "source": [
    "---\n",
    "layout: post\n",
    "title: Sprint2\n",
    "type: issues \n",
    "comments: true\n",
    "hide: true\n",
    "permalink: /sprint2\n",
    "---"
   ]
  },
  {
   "cell_type": "markdown",
   "metadata": {},
   "source": [
    "| **Assignment**             | **Points**    | **Grade** | **Evidence** |\n",
    "|----------------------------|---------------|-----------|--------------|\n",
    "| Pull Request (Integration) | 2             |   1.8     |   [link](https://github.com/nighthawkcoders/portfolio_2025/pulls?q=is%3Apr+is%3Aclosed+author%3Ahanlunli)        |\n",
    "| Relevancy Checklist (Peer) | 2             |     1.8      |              |\n",
    "| Lesson (Group)             | 1             |    0.9       |              |\n",
    "| Homework, Popcorn Hacks    | 1 x 8         |   5.46/6 (not all graded yet)        | 0.9+0.9+0.91+0.95+0.9+0.9             |\n",
    "| Individual Contribution    | 1             |     0.9      |[link](https://github.com/hanlunli/portfolio_2025/commits/main/?author=hanlunli)|\n",
    "| Personal Notebooks / Blogs | 1             |0.9|[link]({{site.baseurl}}/teamteachblog)|\n",
    "| Total                      | 15 (13 so far)            |11.76|              |\n",
    "\n",
    "\n",
    "| **Skill**                  | **Points**    | **Grade** | **Evidence** |\n",
    "|----------------------------|---------------|-----------|--------------|\n",
    "| Work Habits (Analytics)    |   1           |0.9|I have very many commits that add relevant changes|\n",
    "| Team Planning (Issue)      |   1           |0.85|our team could work on planning more|\n",
    "| Presentation Memories      |   1           |0.9|I think our presentation was pretty engaging and reasonable|\n",
    "| Grading and Feedback       |   1           |0.9|grading matched criteria|\n",
    "| Beyond Perfunctory         |   1           |0.9|I think our hacks were pretty fun & engaging.| \n",
    "| Total                      |   5           |4.45|              |"
   ]
  }
 ],
 "metadata": {
  "language_info": {
   "name": "python"
  }
 },
 "nbformat": 4,
 "nbformat_minor": 2
}
