{
 "cells": [
  {
   "cell_type": "markdown",
   "metadata": {},
   "source": [
    "---\n",
    "layout: post\n",
    "title: MCQ Review\n",
    "permalink: /CSA_MCQ_Review\n",
    "comments: true\n",
    "---"
   ]
  },
  {
   "cell_type": "markdown",
   "metadata": {},
   "source": [
    "# MCQ Review: (Score: 35/39)\n",
    "\n",
    "## MISSED QUESTIONS:\n",
    "\n",
    "- Question 9: I chose option C because I forgot that (int) (Math.random() * 6) only generates a value from 0-5, not 1-6, making E the correct option.\n",
    "\n",
    "![image]({{site.baseurl}}/images/mcq2/q9.png)\n",
    "\n",
    "- Question 22: I chose option B instead of A because I misread the for loop, and incorrectly thought it was using indices instead of being an enhanced for loop.\n",
    "\n",
    "![image]({{site.baseurl}}/images/mcq2/q22.png)\n",
    "\n",
    "- Question 31: I misunderstood the loops in the question\n",
    "\n",
    "![image]({{site.baseurl}}/images/mcq2/q31.png)\n",
    "\n",
    "- Question 33: I didnt choose option E is correct since  I didnt know that Integer.MIN_VALUE was acutally a valid way of representing the smallest integer value \n",
    "\n",
    "![image]({{site.baseurl}}/images/mcq2/q33.png)\n",
    "\n"
   ]
  }
 ],
 "metadata": {
  "language_info": {
   "name": "python"
  }
 },
 "nbformat": 4,
 "nbformat_minor": 2
}
