{
 "cells": [
  {
   "cell_type": "markdown",
   "metadata": {},
   "source": [
    "---\n",
    "layout: post\n",
    "title: HW Numero Dos\n",
    "permalink: /hw_2\n",
    "comments: true\n",
    "---"
   ]
  },
  {
   "cell_type": "code",
   "execution_count": null,
   "metadata": {},
   "outputs": [],
   "source": [
    "public class Game   \n",
    "{\n",
    "    private Level levelOne;\n",
    "    private Level levelTwo;\n",
    "    private Level levelThree;\n",
    "    public Game(){\n",
    "\n",
    "    }\n",
    "    public boolean isBonus(){\n",
    "        \n",
    "    }\n",
    "    public void play(){\n",
    "\n",
    "    }\n",
    "    public int getScore(){\n",
    "\n",
    "\n",
    "    }\n",
    "    public int playManyTimes(int num){\n",
    "\n",
    "    }\n",
    "}"
   ]
  },
  {
   "cell_type": "code",
   "execution_count": null,
   "metadata": {},
   "outputs": [],
   "source": [
    "public int getScore(){\n",
    "    int gameScore = 0;\n",
    "    if (levelOne.goalReached()){\n",
    "        gameScore += levelOne.getPoints()\n",
    "        if (levelTwo.goalReached()){\n",
    "            gameScore += levelTwo.getPoints(){\n",
    "                if (levelThree.goalReached()){\n",
    "                    gameScore += levelThree.getPoints()\n",
    "                }\n",
    "            }\n",
    "        }\n",
    "    }\n",
    "\n",
    "    if (isBonus())\n",
    "        gameScore *= 3;\n",
    "        \n",
    "    return gameScore;\n",
    "}"
   ]
  },
  {
   "cell_type": "code",
   "execution_count": null,
   "metadata": {},
   "outputs": [],
   "source": [
    "public int playManyTimes(int num){\n",
    "    int returnScore = 0;\n",
    "    for (int i = 0; i < num; i++){\n",
    "        play();\n",
    "        if (getScore() > returnScore){\n",
    "            returnScore = getScore();\n",
    "        }\n",
    "    }\n",
    "    return returnScore;\n",
    "}"
   ]
  }
 ],
 "metadata": {
  "kernelspec": {
   "display_name": "Java",
   "language": "java",
   "name": "java"
  },
  "language_info": {
   "name": "java"
  }
 },
 "nbformat": 4,
 "nbformat_minor": 2
}
