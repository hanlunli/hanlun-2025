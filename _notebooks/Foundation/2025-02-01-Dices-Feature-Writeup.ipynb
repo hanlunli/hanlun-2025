{
 "cells": [
  {
   "cell_type": "markdown",
   "metadata": {},
   "source": [
    "---\n",
    "layout: post\n",
    "title: Dices Writeup\n",
    "permalink: /Dices_Writeup\n",
    "comments: true\n",
    "---"
   ]
  },
  {
   "cell_type": "markdown",
   "metadata": {},
   "source": [
    "# Backend\n",
    "\n",
    "### Dice Class:\n",
    "- uses random number generator for betting logic (Random package in java)\n",
    "- calculates winnings based off of betSize and winChance\n",
    "- Returns a negative amount for losses and a scaled reward for wins.\n",
    "\n",
    "### Dice Api Controller\n",
    "- Receives bet requests from the frontend via POST /api/casino/dice/calculate.\n",
    "- Retrieves user details from the PersonJpaRepository using a unique UID.\n",
    "- Validates balance before processing a bet.\n",
    "- Updates and saves the new balance in the database.\n",
    "\n",
    "# Frontend\n",
    "\n",
    "### UI\n",
    "- slider for winChance, input box for bet size (min 1000)\n",
    "- graph to display winnings over time (will be integrated into bank)\n",
    "- error handling for bet errors/login issues"
   ]
  },
  {
   "cell_type": "markdown",
   "metadata": {},
   "source": [
    "~~~mermaid\n",
    "graph TD\n",
    "    A[\"User Places Bet\"] -->|POST /api/casino/dice/calculate| B[\"DiceApiController\"]\n",
    "    B -->|Retrieve User| C[\"personJpaRepository.findByUid(uid)\"]\n",
    "    C -->|Return User Data| D{\"Does User Have Enough Balance?\"}\n",
    "\n",
    "    D -- \"No\" --> E[\"Return HTTP 406 Not Acceptable\"]\n",
    "    D -- \"Yes\" --> F[\"Create Dice Object\"]\n",
    "\n",
    "    F -->|Calculate Win/Loss| G[\"dice.calculateWin()\"]\n",
    "    G --> H[\"Update User Balance\"]\n",
    "    H -->|Save Updated Balance| I[\"personJpaRepository.save(user)\"]\n",
    "\n",
    "    I -->|Return Updated Balance| J[\"ResponseEntity<Double> HTTP 200 OK\"]\n",
    "\n",
    "~~~"
   ]
  },
  {
   "cell_type": "markdown",
   "metadata": {},
   "source": [
    "<script type=\"module\">\n",
    "  import mermaid from 'https://cdn.jsdelivr.net/npm/mermaid@10/dist/mermaid.esm.min.mjs';\n",
    "  mermaid.initialize({startOnLoad:true});\n",
    "</script>"
   ]
  }
 ],
 "metadata": {
  "language_info": {
   "name": "python"
  }
 },
 "nbformat": 4,
 "nbformat_minor": 2
}
