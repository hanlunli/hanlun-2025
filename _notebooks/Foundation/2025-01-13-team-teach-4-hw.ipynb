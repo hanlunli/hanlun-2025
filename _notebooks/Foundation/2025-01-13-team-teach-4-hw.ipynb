{
 "cells": [
  {
   "cell_type": "markdown",
   "metadata": {},
   "source": [
    "---\n",
    "layout: post\n",
    "title: HW Numero Cuatro\n",
    "permalink: /hw_4\n",
    "comments: true\n",
    "---"
   ]
  },
  {
   "cell_type": "code",
   "execution_count": null,
   "metadata": {},
   "outputs": [],
   "source": [
    "public void cleanData(double lower, double upper) {\n",
    "    int length = temperatures.size();\n",
    "    for (int i = length-1, i >= 0, i--){\n",
    "        if (temperatures.get(i) < lower || temperatures.get(i) > upper){\n",
    "            temperatures.remove(i);\n",
    "        }\n",
    "    }\n",
    "}"
   ]
  },
  {
   "cell_type": "markdown",
   "metadata": {},
   "source": [
    "## PART A EXPLANATION\n",
    "\n",
    "- iterate through the for loop backwards, since removing elements will make the arraylist change. Compare each temperature to the lower and upper to determine wether you remove it."
   ]
  },
  {
   "cell_type": "code",
   "execution_count": null,
   "metadata": {},
   "outputs": [],
   "source": [
    "public int longestHeatWave(double threshold) {\n",
    "    int current = 0;\n",
    "    int max = 0;\n",
    "    for (double i : temperatures){\n",
    "        if (i <= threshold){\n",
    "            curent = 0;\n",
    "        }\n",
    "        else {\n",
    "            current++;\n",
    "            if (current > max){\n",
    "                max = current;\n",
    "            }\n",
    "        }\n",
    "    }\n",
    "    return max;\n",
    "}"
   ]
  },
  {
   "cell_type": "markdown",
   "metadata": {},
   "source": [
    "## PART B Explanation\n",
    "\n",
    "- if the temperatrue value is less than the threshold reset the chain, if greater, add 1 and compare to the max."
   ]
  }
 ],
 "metadata": {
  "kernelspec": {
   "display_name": "Java",
   "language": "java",
   "name": "java"
  },
  "language_info": {
   "name": "java"
  }
 },
 "nbformat": 4,
 "nbformat_minor": 2
}
