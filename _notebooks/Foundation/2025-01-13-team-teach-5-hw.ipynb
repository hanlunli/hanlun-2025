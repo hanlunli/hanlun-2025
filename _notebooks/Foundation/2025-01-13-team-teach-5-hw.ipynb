{
 "cells": [
  {
   "cell_type": "markdown",
   "metadata": {},
   "source": [
    "---\n",
    "layout: post\n",
    "title: HW Numero Cinco\n",
    "permalink: /hw_5\n",
    "comments: true\n",
    "---"
   ]
  },
  {
   "cell_type": "code",
   "execution_count": null,
   "metadata": {},
   "outputs": [],
   "source": [
    "import java.util.Random;\n",
    "\n",
    "public void repopulate(){\n",
    "    for (int i = 0; i < grid.length; i++){\n",
    "        for (int j = 0; j < grid[0].length; j++){\n",
    "            Random rand = new Random();\n",
    "            int random_int1 = rand.nextInt(MAX)+1;\n",
    "            while (random_int1 % 10 || random_int1 % 100){\n",
    "                random_int1 = rand.nextInt(MAX)+1;\n",
    "            }\n",
    "            grid[i][j] = random_int1;\n",
    "        }\n",
    "    }\n",
    "}"
   ]
  },
  {
   "cell_type": "code",
   "execution_count": null,
   "metadata": {},
   "outputs": [],
   "source": [
    "public int countIncreasingCols(){\n",
    "    int num = 0;\n",
    "    for (int j = 0; j < grid[0].length; j++){\n",
    "        boolean flag = true;\n",
    "        for (int i = 1; i < grid.length; i++){\n",
    "            if (grid[row-1][col] > grid[row][col]){\n",
    "                flag = false;\n",
    "            }\n",
    "        }\n",
    "        if (flag){\n",
    "            num++;\n",
    "        }\n",
    "    }\n",
    "    return num;\n",
    "}"
   ]
  }
 ],
 "metadata": {
  "kernelspec": {
   "display_name": "Java",
   "language": "java",
   "name": "java"
  },
  "language_info": {
   "name": "java"
  }
 },
 "nbformat": 4,
 "nbformat_minor": 2
}
